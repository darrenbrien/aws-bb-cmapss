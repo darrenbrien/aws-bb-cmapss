{
 "cells": [
  {
   "cell_type": "code",
   "execution_count": 2,
   "metadata": {},
   "outputs": [
    {
     "name": "stdout",
     "output_type": "stream",
     "text": [
      "Start 07:43:39\n"
     ]
    }
   ],
   "source": [
    "import sagemaker\n",
    "import pandas as pd\n",
    "from time import gmtime, strftime\n",
    "import time\n",
    "from datetime import datetime\n",
    "\n",
    "print('Start', datetime.now().strftime(\"%H:%M:%S\"))\n",
    "\n",
    "sagemaker_session = sagemaker.Session()\n",
    "role = sagemaker.get_execution_role()\n",
    "bucket = sagemaker_session.default_bucket()"
   ]
  },
  {
   "cell_type": "code",
   "execution_count": null,
   "metadata": {},
   "outputs": [],
   "source": [
    "import logging\n",
    "logging.getLogger('sagemaker').setLevel(logging.CRITICAL)"
   ]
  },
  {
   "cell_type": "code",
   "execution_count": 3,
   "metadata": {},
   "outputs": [
    {
     "name": "stderr",
     "output_type": "stream",
     "text": [
      "The method get_image_uri has been renamed in sagemaker>=2.\n",
      "See: https://sagemaker.readthedocs.io/en/stable/v2.html for details.\n"
     ]
    },
    {
     "name": "stdout",
     "output_type": "stream",
     "text": [
      "683313688378.dkr.ecr.us-east-1.amazonaws.com/sagemaker-xgboost:0.90-1-cpu-py3\n"
     ]
    }
   ],
   "source": [
    "from sagemaker.amazon.amazon_estimator import get_image_uri\n",
    "\n",
    "training_image = get_image_uri(sagemaker_session.boto_region_name, 'xgboost', repo_version=\"0.90-1\")\n",
    "print(training_image)"
   ]
  },
  {
   "cell_type": "code",
   "execution_count": 16,
   "metadata": {},
   "outputs": [],
   "source": [
    "bucket = 'datalake-published-data-907317471167-us-east-1-qkg9331'\n",
    "prefix = 'cmaps-ml2'\n",
    "train_part, val_part = ('split=train', 'split=validation')\n",
    "output_prefix = 'output'"
   ]
  },
  {
   "cell_type": "markdown",
   "metadata": {},
   "source": [
    "# Training the XGBoost model¶"
   ]
  },
  {
   "cell_type": "code",
   "execution_count": 24,
   "metadata": {},
   "outputs": [],
   "source": [
    "timestamp_prefix = strftime(\"%Y-%m-%d-%H-%M-%S\", gmtime())\n",
    "s3_train_data = f's3://{bucket}/{prefix}/{train_part}'\n",
    "s3_validation_data = f's3://{bucket}/{prefix}/{val_part}'\n",
    "s3_output_location = f's3://{bucket}/{output_prefix}/xgboost_model'"
   ]
  },
  {
   "cell_type": "code",
   "execution_count": 20,
   "metadata": {},
   "outputs": [
    {
     "name": "stderr",
     "output_type": "stream",
     "text": [
      "train_instance_count has been renamed in sagemaker>=2.\n",
      "See: https://sagemaker.readthedocs.io/en/stable/v2.html for details.\n",
      "train_instance_type has been renamed in sagemaker>=2.\n",
      "See: https://sagemaker.readthedocs.io/en/stable/v2.html for details.\n",
      "train_max_run has been renamed in sagemaker>=2.\n",
      "See: https://sagemaker.readthedocs.io/en/stable/v2.html for details.\n",
      "train_volume_size has been renamed in sagemaker>=2.\n",
      "See: https://sagemaker.readthedocs.io/en/stable/v2.html for details.\n",
      "The class sagemaker.session.s3_input has been renamed in sagemaker>=2.\n",
      "See: https://sagemaker.readthedocs.io/en/stable/v2.html for details.\n",
      "The class sagemaker.session.s3_input has been renamed in sagemaker>=2.\n",
      "See: https://sagemaker.readthedocs.io/en/stable/v2.html for details.\n"
     ]
    }
   ],
   "source": [
    "xgb_model = sagemaker.estimator.Estimator(training_image,\n",
    "                                          role, \n",
    "                                          train_instance_count=1, \n",
    "                                          train_instance_type='ml.m4.xlarge',\n",
    "                                          train_volume_size = 20,\n",
    "                                          train_max_run = 3600,\n",
    "                                          input_mode= 'Pipe',\n",
    "                                          output_path=s3_output_location,\n",
    "                                          sagemaker_session=sagemaker_session)\n",
    "\n",
    "xgb_model.set_hyperparameters(objective = \"reg:squarederror\",\n",
    "                              eta = .2,\n",
    "                              gamma = 4,\n",
    "                              max_depth = 5,\n",
    "                              num_round = 50,\n",
    "                              subsample = 0.7,\n",
    "                              silent = 0,\n",
    "                              min_child_weight = 6)\n",
    "\n",
    "train_data = sagemaker.session.s3_input(s3_train_data, distribution='FullyReplicated', compression='Gzip',\n",
    "                        content_type='text/csv', s3_data_type='S3Prefix')\n",
    "validation_data = sagemaker.session.s3_input(s3_validation_data, distribution='FullyReplicated', compression='Gzip', \n",
    "                             content_type='text/csv', s3_data_type='S3Prefix')\n",
    "\n",
    "data_channels = {'train': train_data, 'validation': validation_data}"
   ]
  },
  {
   "cell_type": "code",
   "execution_count": 21,
   "metadata": {},
   "outputs": [
    {
     "name": "stdout",
     "output_type": "stream",
     "text": [
      "2020-12-01 08:33:03 Starting - Starting the training job...\n",
      "2020-12-01 08:33:05 Starting - Launching requested ML instances.........\n",
      "2020-12-01 08:34:36 Starting - Preparing the instances for training......\n",
      "2020-12-01 08:35:52 Downloading - Downloading input data...\n",
      "2020-12-01 08:36:18 Training - Downloading the training image..\u001b[34mINFO:sagemaker-containers:Imported framework sagemaker_xgboost_container.training\u001b[0m\n",
      "\u001b[34mINFO:sagemaker-containers:Failed to parse hyperparameter objective value reg:squarederror to Json.\u001b[0m\n",
      "\u001b[34mReturning the value itself\u001b[0m\n",
      "\u001b[34mINFO:sagemaker-containers:No GPUs detected (normal if no gpus installed)\u001b[0m\n",
      "\u001b[34mINFO:sagemaker_xgboost_container.training:Running XGBoost Sagemaker in algorithm mode\u001b[0m\n",
      "\u001b[34mINFO:root:Pipe path /opt/ml/input/data/train found.\u001b[0m\n",
      "\u001b[34mINFO:root:Pipe path /opt/ml/input/data/validation found.\u001b[0m\n",
      "\u001b[34mINFO:root:Single node training.\u001b[0m\n",
      "\u001b[34mINFO:root:Train matrix has 14023 rows\u001b[0m\n",
      "\u001b[34mINFO:root:Validation matrix has 6608 rows\u001b[0m\n",
      "\u001b[34m[0]#011train-rmse:104.644#011validation-rmse:103.088\u001b[0m\n",
      "\u001b[34m[1]#011train-rmse:86.2865#011validation-rmse:85.2173\u001b[0m\n",
      "\u001b[34m[2]#011train-rmse:71.9805#011validation-rmse:71.6082\u001b[0m\n",
      "\u001b[34m[3]#011train-rmse:61.0565#011validation-rmse:61.5864\u001b[0m\n",
      "\u001b[34m[4]#011train-rmse:52.7662#011validation-rmse:54.3421\u001b[0m\n",
      "\u001b[34m[5]#011train-rmse:46.5397#011validation-rmse:49.3449\u001b[0m\n",
      "\u001b[34m[6]#011train-rmse:42.0219#011validation-rmse:46.0886\u001b[0m\n",
      "\u001b[34m[7]#011train-rmse:38.7508#011validation-rmse:44.0697\u001b[0m\n",
      "\u001b[34m[8]#011train-rmse:36.5014#011validation-rmse:42.9356\u001b[0m\n",
      "\u001b[34m[9]#011train-rmse:34.9233#011validation-rmse:42.2936\u001b[0m\n",
      "\u001b[34m[10]#011train-rmse:33.8086#011validation-rmse:41.9592\u001b[0m\n",
      "\u001b[34m[11]#011train-rmse:33.0012#011validation-rmse:41.8715\u001b[0m\n",
      "\u001b[34m[12]#011train-rmse:32.4534#011validation-rmse:41.9307\u001b[0m\n",
      "\u001b[34m[13]#011train-rmse:32.0644#011validation-rmse:42.0298\u001b[0m\n",
      "\u001b[34m[14]#011train-rmse:31.8299#011validation-rmse:42.1191\u001b[0m\n",
      "\u001b[34m[15]#011train-rmse:31.5938#011validation-rmse:42.2301\u001b[0m\n",
      "\u001b[34m[16]#011train-rmse:31.4259#011validation-rmse:42.2527\u001b[0m\n",
      "\u001b[34m[17]#011train-rmse:31.3115#011validation-rmse:42.3332\u001b[0m\n",
      "\u001b[34m[18]#011train-rmse:31.1944#011validation-rmse:42.3804\u001b[0m\n",
      "\u001b[34m[19]#011train-rmse:31.0912#011validation-rmse:42.481\u001b[0m\n",
      "\u001b[34m[20]#011train-rmse:30.9946#011validation-rmse:42.5648\u001b[0m\n",
      "\u001b[34m[21]#011train-rmse:30.8981#011validation-rmse:42.6323\u001b[0m\n",
      "\u001b[34m[22]#011train-rmse:30.8003#011validation-rmse:42.676\u001b[0m\n",
      "\u001b[34m[23]#011train-rmse:30.663#011validation-rmse:42.7378\u001b[0m\n",
      "\u001b[34m[24]#011train-rmse:30.5813#011validation-rmse:42.7614\u001b[0m\n",
      "\u001b[34m[25]#011train-rmse:30.4832#011validation-rmse:42.8153\u001b[0m\n",
      "\u001b[34m[26]#011train-rmse:30.3981#011validation-rmse:42.906\u001b[0m\n",
      "\u001b[34m[27]#011train-rmse:30.3008#011validation-rmse:42.9375\u001b[0m\n",
      "\u001b[34m[28]#011train-rmse:30.2115#011validation-rmse:43.0421\u001b[0m\n",
      "\u001b[34m[29]#011train-rmse:30.1691#011validation-rmse:43.0451\u001b[0m\n",
      "\u001b[34m[30]#011train-rmse:30.0828#011validation-rmse:43.0619\u001b[0m\n",
      "\u001b[34m[31]#011train-rmse:30.0334#011validation-rmse:43.0825\u001b[0m\n",
      "\u001b[34m[32]#011train-rmse:29.9327#011validation-rmse:43.0932\u001b[0m\n",
      "\u001b[34m[33]#011train-rmse:29.8661#011validation-rmse:43.1702\u001b[0m\n",
      "\u001b[34m[34]#011train-rmse:29.8425#011validation-rmse:43.1707\u001b[0m\n",
      "\u001b[34m[35]#011train-rmse:29.7732#011validation-rmse:43.1913\u001b[0m\n",
      "\u001b[34m[36]#011train-rmse:29.7227#011validation-rmse:43.211\u001b[0m\n",
      "\u001b[34m[37]#011train-rmse:29.69#011validation-rmse:43.213\u001b[0m\n",
      "\u001b[34m[38]#011train-rmse:29.6692#011validation-rmse:43.2339\u001b[0m\n",
      "\u001b[34m[39]#011train-rmse:29.6259#011validation-rmse:43.2372\u001b[0m\n",
      "\u001b[34m[40]#011train-rmse:29.5816#011validation-rmse:43.2422\u001b[0m\n",
      "\u001b[34m[41]#011train-rmse:29.5283#011validation-rmse:43.2738\u001b[0m\n",
      "\u001b[34m[42]#011train-rmse:29.4633#011validation-rmse:43.2661\u001b[0m\n",
      "\u001b[34m[43]#011train-rmse:29.321#011validation-rmse:43.3002\u001b[0m\n",
      "\u001b[34m[44]#011train-rmse:29.2529#011validation-rmse:43.2779\u001b[0m\n",
      "\u001b[34m[45]#011train-rmse:29.1764#011validation-rmse:43.2524\u001b[0m\n",
      "\u001b[34m[46]#011train-rmse:29.1267#011validation-rmse:43.2715\u001b[0m\n",
      "\u001b[34m[47]#011train-rmse:29.0427#011validation-rmse:43.2773\u001b[0m\n",
      "\u001b[34m[48]#011train-rmse:28.9779#011validation-rmse:43.3009\u001b[0m\n",
      "\u001b[34m[49]#011train-rmse:28.898#011validation-rmse:43.3612\u001b[0m\n",
      "\n",
      "2020-12-01 08:36:50 Uploading - Uploading generated training model\n",
      "2020-12-01 08:36:50 Completed - Training job completed\n",
      "Training seconds: 58\n",
      "Billable seconds: 58\n"
     ]
    }
   ],
   "source": [
    "xgb_model.fit(inputs=data_channels, logs=True)"
   ]
  },
  {
   "cell_type": "markdown",
   "metadata": {},
   "source": [
    "# Building an inference Pipeline using SageMaker SDK"
   ]
  },
  {
   "cell_type": "code",
   "execution_count": 22,
   "metadata": {},
   "outputs": [
    {
     "data": {
      "text/plain": [
       "'s3://datalake-published-data-907317471167-us-east-1-qkg9331/output/xgboost_model/sagemaker-xgboost-2020-12-01-08-33-03-814/output/model.tar.gz'"
      ]
     },
     "execution_count": 22,
     "metadata": {},
     "output_type": "execute_result"
    }
   ],
   "source": [
    "# XGBoost model artifacts \n",
    "xgb_model.model_data"
   ]
  },
  {
   "cell_type": "code",
   "execution_count": 26,
   "metadata": {},
   "outputs": [],
   "source": [
    "endpoint_name = 'inference-pipeline-ep-' + timestamp_prefix"
   ]
  },
  {
   "cell_type": "code",
   "execution_count": null,
   "metadata": {},
   "outputs": [
    {
     "name": "stdout",
     "output_type": "stream",
     "text": [
      "-----"
     ]
    }
   ],
   "source": [
    "predictor = xgb_model.deploy(initial_instance_count=1, instance_type='ml.c4.xlarge', endpoint_name=endpoint_name)"
   ]
  },
  {
   "cell_type": "code",
   "execution_count": 75,
   "metadata": {},
   "outputs": [],
   "source": [
    "from sagemaker.predictor import json_serializer, csv_serializer, json_deserializer, RealTimePredictor"
   ]
  },
  {
   "cell_type": "code",
   "execution_count": 80,
   "metadata": {},
   "outputs": [
    {
     "name": "stderr",
     "output_type": "stream",
     "text": [
      "The class RealTimePredictor has been renamed in sagemaker>=2.\n",
      "See: https://sagemaker.readthedocs.io/en/stable/v2.html for details.\n",
      "content_type is a no-op in sagemaker>=2.\n",
      "See: https://sagemaker.readthedocs.io/en/stable/v2.html for details.\n",
      "accept is a no-op in sagemaker>=2.\n",
      "See: https://sagemaker.readthedocs.io/en/stable/v2.html for details.\n"
     ]
    }
   ],
   "source": [
    "predictor = RealTimePredictor(endpoint_name=endpoint_name, sagemaker_session=sagemaker_session, serializer=csv_serializer,\n",
    "                                content_type='text/csv', accept='text/csv')"
   ]
  },
  {
   "cell_type": "code",
   "execution_count": 91,
   "metadata": {},
   "outputs": [
    {
     "name": "stdout",
     "output_type": "stream",
     "text": [
      "b'208.28956604003906'\n",
      "b'202.65234375'\n",
      "b'197.8765411376953'\n",
      "b'217.3982391357422'\n",
      "b'204.9069366455078'\n",
      "b'208.5284423828125'\n",
      "b'195.82093811035156'\n",
      "b'187.29452514648438'\n",
      "b'199.78073120117188'\n",
      "b'186.3865509033203'\n",
      "b'203.58816528320312'\n",
      "b'212.28073120117188'\n",
      "b'185.60752868652344'\n",
      "b'197.88758850097656'\n",
      "b'187.69908142089844'\n",
      "b'193.71083068847656'\n",
      "b'204.13967895507812'\n",
      "b'199.91458129882812'\n",
      "b'180.61285400390625'\n",
      "b'176.0583953857422'\n",
      "b'200.1953582763672'\n",
      "b'180.85430908203125'\n",
      "b'176.80828857421875'\n",
      "b'179.3096466064453'\n",
      "b'193.01251220703125'\n",
      "b'175.11705017089844'\n",
      "b'185.15428161621094'\n",
      "b'188.4100341796875'\n",
      "b'191.44964599609375'\n",
      "b'186.1831817626953'\n",
      "b'182.75543212890625'\n",
      "b'178.76129150390625'\n",
      "b'174.25015258789062'\n",
      "b'173.32997131347656'\n",
      "b'184.7650909423828'\n",
      "b'186.24107360839844'\n",
      "b'192.09677124023438'\n",
      "b'190.40821838378906'\n",
      "b'154.4621124267578'\n",
      "b'172.5054931640625'\n",
      "b'173.3092041015625'\n",
      "b'158.70838928222656'\n",
      "b'165.2967071533203'\n",
      "b'170.06790161132812'\n",
      "b'159.53082275390625'\n",
      "b'155.09596252441406'\n",
      "b'165.77593994140625'\n",
      "b'151.45538330078125'\n",
      "b'173.6250457763672'\n",
      "b'153.12588500976562'\n",
      "b'170.69281005859375'\n",
      "b'173.77276611328125'\n",
      "b'163.7830047607422'\n",
      "b'158.53707885742188'\n",
      "b'159.81602478027344'\n",
      "b'151.96974182128906'\n",
      "b'152.308349609375'\n",
      "b'150.61715698242188'\n",
      "b'149.49212646484375'\n",
      "b'152.99081420898438'\n",
      "b'145.6917266845703'\n",
      "b'145.89044189453125'\n",
      "b'148.20594787597656'\n",
      "b'144.53973388671875'\n",
      "b'142.71136474609375'\n",
      "b'129.59255981445312'\n",
      "b'159.39292907714844'\n",
      "b'141.6543426513672'\n",
      "b'134.91326904296875'\n",
      "b'135.22337341308594'\n",
      "b'150.0684051513672'\n",
      "b'144.63905334472656'\n",
      "b'136.5948028564453'\n",
      "b'146.8311004638672'\n",
      "b'133.26803588867188'\n",
      "b'137.99151611328125'\n",
      "b'121.39805603027344'\n",
      "b'126.5678482055664'\n",
      "b'135.97901916503906'\n",
      "b'129.7435302734375'\n",
      "b'121.5915298461914'\n",
      "b'133.5211181640625'\n",
      "b'118.6270980834961'\n",
      "b'116.29654693603516'\n",
      "b'142.7598419189453'\n",
      "b'131.32630920410156'\n",
      "b'123.92105865478516'\n",
      "b'138.80126953125'\n",
      "b'128.17776489257812'\n",
      "b'126.19087982177734'\n",
      "b'121.40818786621094'\n",
      "b'124.88929748535156'\n",
      "b'110.67208099365234'\n",
      "b'120.1625747680664'\n",
      "b'126.88523864746094'\n",
      "b'102.96212768554688'\n",
      "b'100.90068054199219'\n",
      "b'111.76702117919922'\n",
      "b'106.18257904052734'\n",
      "b'112.02182006835938'\n",
      "b'114.92328643798828'\n",
      "b'114.75720977783203'\n"
     ]
    }
   ],
   "source": [
    "with open('aws-bb-cmapss/data/train_FD001.txt') as csvf:\n",
    "    for i, row in enumerate(csvf.readlines()):\n",
    "        prediction = predictor.predict(','.join(row.strip().split(' ')[1:]))\n",
    "        print(prediction)\n",
    "        if i > 100:\n",
    "            break\n"
   ]
  },
  {
   "cell_type": "code",
   "execution_count": 71,
   "metadata": {},
   "outputs": [],
   "source": [
    "predictor.delete_endpoint()"
   ]
  },
  {
   "cell_type": "code",
   "execution_count": null,
   "metadata": {},
   "outputs": [],
   "source": []
  }
 ],
 "metadata": {
  "kernelspec": {
   "display_name": "conda_python3",
   "language": "python",
   "name": "conda_python3"
  },
  "language_info": {
   "codemirror_mode": {
    "name": "ipython",
    "version": 3
   },
   "file_extension": ".py",
   "mimetype": "text/x-python",
   "name": "python",
   "nbconvert_exporter": "python",
   "pygments_lexer": "ipython3",
   "version": "3.6.10"
  }
 },
 "nbformat": 4,
 "nbformat_minor": 4
}
